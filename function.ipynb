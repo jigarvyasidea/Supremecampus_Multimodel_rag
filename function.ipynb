{
 "cells": [
  {
   "cell_type": "code",
   "execution_count": 1,
   "id": "ad3b2ec3",
   "metadata": {},
   "outputs": [
    {
     "name": "stdout",
     "output_type": "stream",
     "text": [
      "3\n"
     ]
    }
   ],
   "source": [
    "cities = [ \"delhi \" , \"jaipur \" , \"mumbai \" ]\n",
    "\n",
    "\n",
    "\n",
    "def print_length(cities):\n",
    "    print(len(cities))\n",
    "\n",
    "print_length(cities)"
   ]
  },
  {
   "cell_type": "code",
   "execution_count": 4,
   "id": "bb19765e",
   "metadata": {},
   "outputs": [
    {
     "name": "stdout",
     "output_type": "stream",
     "text": [
      "pass\n"
     ]
    }
   ],
   "source": [
    "# 🔹 Q1. Pass or Fail\n",
    "# User se marks input lo (0 to 100).\n",
    "# Agar marks ≥ 40 ho toh \"Pass\", warna \"Fail\" print karo.\n",
    "\n",
    "\n",
    "a =  int(input(\"ehter the markes:\", ));\n",
    "if a>=40:\n",
    "    print(\"pass\")\n",
    "else:\n",
    "    print(\"Fail\")"
   ]
  },
  {
   "cell_type": "code",
   "execution_count": 5,
   "id": "14f561c6",
   "metadata": {},
   "outputs": [
    {
     "name": "stdout",
     "output_type": "stream",
     "text": [
      "even number \n"
     ]
    }
   ],
   "source": [
    "#  Even or Odd\n",
    "# Ek number input lo. Check karo ki number even hai ya odd.\n",
    "\n",
    "b = int(input(\"enter the number\", ));\n",
    "\n",
    "if b%2 == 0 :\n",
    "    print(\"even number \" ) \n",
    "else:\n",
    "    print(\"odd\")\n",
    "\n",
    "\n"
   ]
  },
  {
   "cell_type": "code",
   "execution_count": 6,
   "id": "db90901f",
   "metadata": {},
   "outputs": [
    {
     "name": "stdout",
     "output_type": "stream",
     "text": [
      "adult\n"
     ]
    }
   ],
   "source": [
    "# 3. Age Category Checker\n",
    "# User se age input lo. Age ke hisaab se print karo:\n",
    "\n",
    "# Age < 13: \"Child\"\n",
    "\n",
    "# 13 ≤ Age < 18: \"Teenager\"\n",
    "\n",
    "# 18 ≤ Age < 60: \"Adult\"\n",
    "\n",
    "# Age ≥ 60: \"Senior Citizen\"\n",
    "\n",
    "age  = int(input(\"enter the age \" ));\n",
    "\n",
    "if age < 13:\n",
    "    print(\"child\")\n",
    "elif  13<= age < 18:\n",
    "    print(\" Teenager\")\n",
    "elif 18 <= age < 60:\n",
    "    print(\"adult\")\n",
    "else:\n",
    "    print(\"senior Decission\")"
   ]
  },
  {
   "cell_type": "code",
   "execution_count": 10,
   "id": "4e037e8e",
   "metadata": {},
   "outputs": [
    {
     "name": "stdout",
     "output_type": "stream",
     "text": [
      "3 6 2\n",
      "This number is greater: 6\n"
     ]
    }
   ],
   "source": [
    "# 🔹 Q4. Largest of Three Numbers\n",
    "# Teen numbers lo user se. Sabse bada number print karo using if, elif, else.\n",
    "\n",
    "# python\n",
    "# Copy\n",
    "# Edit\n",
    "# # Sample Output:\n",
    "# # Enter numbers: 10, 25, 15\n",
    "# # Output: Largest number is 25\n",
    "no = int(input(\"Enter the first number: \"))\n",
    "num2 = int(input(\"Enter the second number: \"))\n",
    "num3 = int(input(\"Enter the third number: \"))\n",
    "\n",
    "print(no , num2 , num3 )\n",
    "\n",
    "if no > num2 and no > num3:\n",
    "    print(\"This number is greater:\", no)\n",
    "elif num2 > no and num2 > num3:\n",
    "    print(\"This number is greater:\", num2)\n",
    "else:\n",
    "    print(\"This number is greater:\", num3)\n"
   ]
  },
  {
   "cell_type": "code",
   "execution_count": 12,
   "id": "3276e186",
   "metadata": {},
   "outputs": [
    {
     "name": "stdout",
     "output_type": "stream",
     "text": [
      "1\n",
      "2\n",
      "3\n",
      "4\n",
      "5\n",
      "6\n",
      "7\n",
      "8\n",
      "9\n",
      "10\n",
      "11\n",
      "12\n",
      "13\n",
      "14\n",
      "15\n",
      "16\n",
      "17\n",
      "18\n",
      "19\n",
      "20\n",
      "21\n",
      "22\n",
      "23\n",
      "24\n",
      "25\n",
      "26\n",
      "27\n",
      "28\n",
      "29\n",
      "30\n",
      "31\n",
      "32\n",
      "33\n",
      "34\n",
      "35\n",
      "36\n",
      "37\n",
      "38\n",
      "39\n",
      "40\n"
     ]
    }
   ],
   "source": [
    "# 🔹 Q1. Print Numbers 1 to 10 using a for loop\n",
    "\n",
    "# # Output:\n",
    "# # 1 2 3 4 5 6 7 8 9 10\n",
    "\n",
    "num = int(input(\"enter the nu:\" ))\n",
    "\n",
    "for i in range(1 , num+1):\n",
    "    print(i)"
   ]
  },
  {
   "cell_type": "code",
   "execution_count": null,
   "id": "0b1a01a4",
   "metadata": {},
   "outputs": [],
   "source": [
    "\n",
    "\n",
    "a = 0\n",
    "i = 1\n",
    "\n",
    "while i <= x:\n",
    "    a += i\n",
    "    i += 1"
   ]
  },
  {
   "cell_type": "code",
   "execution_count": 21,
   "id": "a127f12d",
   "metadata": {},
   "outputs": [
    {
     "name": "stdout",
     "output_type": "stream",
     "text": [
      "r \n"
     ]
    }
   ],
   "source": [
    "# Q4. Reverse a String using for loop\n",
    "# User se ek string lo aur usse reverse karke print karo.\n",
    "\n",
    "# python\n",
    "# Copy\n",
    "# Edit\n",
    "# # Input: \"Jigar\"\n",
    "# # Output: \"ragiJ\"\n",
    "\n",
    "\n",
    "\n",
    "\n",
    "s = input(\"Enter a string: \")\n",
    "\n",
    "reverse_string = \" \"\n",
    "\n",
    "for i in s:\n",
    "    b = i + reverse_string\n",
    "\n",
    "print(b)\n",
    "\n",
    "\n"
   ]
  },
  {
   "cell_type": "code",
   "execution_count": null,
   "id": "22e68cbd",
   "metadata": {},
   "outputs": [
    {
     "name": "stdout",
     "output_type": "stream",
     "text": [
      "hello guest\n"
     ]
    },
    {
     "ename": "NameError",
     "evalue": "name 'jigar' is not defined",
     "output_type": "error",
     "traceback": [
      "\u001b[31m---------------------------------------------------------------------------\u001b[39m",
      "\u001b[31mNameError\u001b[39m                                 Traceback (most recent call last)",
      "\u001b[36mCell\u001b[39m\u001b[36m \u001b[39m\u001b[32mIn[23]\u001b[39m\u001b[32m, line 15\u001b[39m\n\u001b[32m     11\u001b[39m     \u001b[38;5;28mprint\u001b[39m(\u001b[33mf\u001b[39m\u001b[33m\"\u001b[39m\u001b[33mhello \u001b[39m\u001b[38;5;132;01m{\u001b[39;00mname\u001b[38;5;132;01m}\u001b[39;00m\u001b[33m\"\u001b[39m)\n\u001b[32m     13\u001b[39m greet()\n\u001b[32m---> \u001b[39m\u001b[32m15\u001b[39m greet(\u001b[43mjigar\u001b[49m)\n",
      "\u001b[31mNameError\u001b[39m: name 'jigar' is not defined"
     ]
    }
   ],
   "source": [
    "# 🔹 Q1. Greeting Function with Default Argument\n",
    "# Ek function banao greet(name=\"Guest\"), jo \"Hello, <name>\" print kare.\n",
    "\n",
    "# python\n",
    "# Copy\n",
    "# Edit\n",
    "# # Input: greet()        → Output: Hello, Guest\n",
    "# # Input: greet(\"Jigar\") → Output: Hello, Jigar\n",
    "\n",
    "def greet(name = \"guest\"):\n",
    "    print(f\"hello {name}\")\n",
    "\n",
    "greet()\n",
    "\n",
    "greet(\"jigar\")"
   ]
  }
 ],
 "metadata": {
  "kernelspec": {
   "display_name": "venv",
   "language": "python",
   "name": "python3"
  },
  "language_info": {
   "codemirror_mode": {
    "name": "ipython",
    "version": 3
   },
   "file_extension": ".py",
   "mimetype": "text/x-python",
   "name": "python",
   "nbconvert_exporter": "python",
   "pygments_lexer": "ipython3",
   "version": "3.13.2"
  }
 },
 "nbformat": 4,
 "nbformat_minor": 5
}
