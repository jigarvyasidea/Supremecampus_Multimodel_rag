{
 "cells": [
  {
   "cell_type": "code",
   "execution_count": 1,
   "metadata": {},
   "outputs": [],
   "source": [
    "from typing import Annotated, Literal\n",
    "from pydantic import BaseModel, Field\n",
    "\n",
    "class Patient(BaseModel):\n",
    "    id: Annotated[str, Field(..., description=\"Id of the patient\")]\n",
    "    name: Annotated[str, Field(..., description=\"Name of the patient\")]\n",
    "    city: Annotated[str, Field(..., description=\"City where the patient is living\")]\n",
    "    age: Annotated[int, Field(..., description=\"Age of the patient\")]\n",
    "    gender: Annotated[Literal[\"Male\", \"Female\", \"Other\"], Field(..., description=\"Gender of the patient\")]\n",
    "    height: Annotated[float, Field(..., description=\"Height in meters\")]\n",
    "    weight: Annotated[float, Field(..., description=\"Weight in kilograms\")]\n",
    "\n",
    "    @property\n",
    "    def bmi(self) -> float:\n",
    "        return round(self.weight / (self.height ** 2), 2)\n",
    "\n",
    "    @property\n",
    "    def verdict(self) -> str:\n",
    "        if self.bmi < 18.5:\n",
    "            return \"Underweight\"\n",
    "        elif self.bmi < 25:\n",
    "            return \"Normal\"\n",
    "        elif self.bmi < 30:\n",
    "            return \"Overweight\"\n",
    "        else:\n",
    "            return \"Obese\"\n"
   ]
  },
  {
   "cell_type": "code",
   "execution_count": 2,
   "id": "0c14d8f3",
   "metadata": {},
   "outputs": [],
   "source": [
    "def load_data():\n",
    "    with open('patient.json', 'r') as f:\n",
    "        data = json.load(f)\n",
    "    return data\n"
   ]
  }
 ],
 "metadata": {
  "kernelspec": {
   "display_name": "venv",
   "language": "python",
   "name": "python3"
  },
  "language_info": {
   "codemirror_mode": {
    "name": "ipython",
    "version": 3
   },
   "file_extension": ".py",
   "mimetype": "text/x-python",
   "name": "python",
   "nbconvert_exporter": "python",
   "pygments_lexer": "ipython3",
   "version": "3.13.2"
  }
 },
 "nbformat": 4,
 "nbformat_minor": 5
}
